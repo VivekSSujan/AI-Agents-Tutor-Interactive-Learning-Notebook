{
 "cells": [
  {
   "cell_type": "code",
   "execution_count": 1,
   "id": "969a5e44-00db-4651-9ddd-240e2c2947c2",
   "metadata": {},
   "outputs": [
    {
     "name": "stdout",
     "output_type": "stream",
     "text": [
      "Cloning into 'ai-interviewer'...\n",
      "remote: Enumerating objects: 12, done.\u001b[K\n",
      "remote: Counting objects: 100% (12/12), done.\u001b[K\n",
      "remote: Compressing objects: 100% (9/9), done.\u001b[K\n",
      "remote: Total 12 (delta 2), reused 11 (delta 1), pack-reused 0 (from 0)\u001b[K\n",
      "Receiving objects: 100% (12/12), done.\n",
      "Resolving deltas: 100% (2/2), done.\n",
      "/Users/viveksajithasujan/Downloads/ai-interviewer\n",
      "\u001b[33mDEPRECATION: Loading egg at /opt/anaconda3/lib/python3.12/site-packages/huggingface_hub-0.29.2-py3.8.egg is deprecated. pip 24.3 will enforce this behaviour change. A possible replacement is to use pip for package installation.. Discussion can be found at https://github.com/pypa/pip/issues/12330\u001b[0m\u001b[33m\n",
      "\u001b[0mRequirement already satisfied: autogen-agentchat in /opt/anaconda3/lib/python3.12/site-packages (from -r requirements.txt (line 1)) (0.7.2)\n",
      "Requirement already satisfied: autogen-core in /opt/anaconda3/lib/python3.12/site-packages (from -r requirements.txt (line 2)) (0.7.2)\n",
      "Requirement already satisfied: autogen-ext in /opt/anaconda3/lib/python3.12/site-packages (from -r requirements.txt (line 3)) (0.7.2)\n",
      "Requirement already satisfied: dotenv in /opt/anaconda3/lib/python3.12/site-packages (from -r requirements.txt (line 4)) (0.9.9)\n",
      "Requirement already satisfied: openai in /opt/anaconda3/lib/python3.12/site-packages (from -r requirements.txt (line 5)) (1.99.9)\n",
      "Requirement already satisfied: tiktoken in /opt/anaconda3/lib/python3.12/site-packages (from -r requirements.txt (line 6)) (0.11.0)\n",
      "Requirement already satisfied: pydantic in /opt/anaconda3/lib/python3.12/site-packages (from -r requirements.txt (line 7)) (2.11.7)\n",
      "Requirement already satisfied: jsonref~=1.1.0 in /opt/anaconda3/lib/python3.12/site-packages (from autogen-core->-r requirements.txt (line 2)) (1.1.0)\n",
      "Requirement already satisfied: opentelemetry-api>=1.34.1 in /opt/anaconda3/lib/python3.12/site-packages (from autogen-core->-r requirements.txt (line 2)) (1.36.0)\n",
      "Requirement already satisfied: pillow>=11.0.0 in /opt/anaconda3/lib/python3.12/site-packages (from autogen-core->-r requirements.txt (line 2)) (11.3.0)\n",
      "Requirement already satisfied: protobuf~=5.29.3 in /opt/anaconda3/lib/python3.12/site-packages (from autogen-core->-r requirements.txt (line 2)) (5.29.5)\n",
      "Requirement already satisfied: typing-extensions>=4.0.0 in /opt/anaconda3/lib/python3.12/site-packages (from autogen-core->-r requirements.txt (line 2)) (4.14.1)\n",
      "Requirement already satisfied: python-dotenv in /opt/anaconda3/lib/python3.12/site-packages (from dotenv->-r requirements.txt (line 4)) (0.21.0)\n",
      "Requirement already satisfied: anyio<5,>=3.5.0 in /opt/anaconda3/lib/python3.12/site-packages (from openai->-r requirements.txt (line 5)) (4.2.0)\n",
      "Requirement already satisfied: distro<2,>=1.7.0 in /opt/anaconda3/lib/python3.12/site-packages (from openai->-r requirements.txt (line 5)) (1.9.0)\n",
      "Requirement already satisfied: httpx<1,>=0.23.0 in /opt/anaconda3/lib/python3.12/site-packages (from openai->-r requirements.txt (line 5)) (0.27.0)\n",
      "Requirement already satisfied: jiter<1,>=0.4.0 in /opt/anaconda3/lib/python3.12/site-packages (from openai->-r requirements.txt (line 5)) (0.10.0)\n",
      "Requirement already satisfied: sniffio in /opt/anaconda3/lib/python3.12/site-packages (from openai->-r requirements.txt (line 5)) (1.3.0)\n",
      "Requirement already satisfied: tqdm>4 in /opt/anaconda3/lib/python3.12/site-packages (from openai->-r requirements.txt (line 5)) (4.66.4)\n",
      "Requirement already satisfied: regex>=2022.1.18 in /opt/anaconda3/lib/python3.12/site-packages (from tiktoken->-r requirements.txt (line 6)) (2023.10.3)\n",
      "Requirement already satisfied: requests>=2.26.0 in /opt/anaconda3/lib/python3.12/site-packages (from tiktoken->-r requirements.txt (line 6)) (2.32.2)\n",
      "Requirement already satisfied: annotated-types>=0.6.0 in /opt/anaconda3/lib/python3.12/site-packages (from pydantic->-r requirements.txt (line 7)) (0.6.0)\n",
      "Requirement already satisfied: pydantic-core==2.33.2 in /opt/anaconda3/lib/python3.12/site-packages (from pydantic->-r requirements.txt (line 7)) (2.33.2)\n",
      "Requirement already satisfied: typing-inspection>=0.4.0 in /opt/anaconda3/lib/python3.12/site-packages (from pydantic->-r requirements.txt (line 7)) (0.4.1)\n",
      "Requirement already satisfied: idna>=2.8 in /opt/anaconda3/lib/python3.12/site-packages (from anyio<5,>=3.5.0->openai->-r requirements.txt (line 5)) (3.7)\n",
      "Requirement already satisfied: certifi in /opt/anaconda3/lib/python3.12/site-packages (from httpx<1,>=0.23.0->openai->-r requirements.txt (line 5)) (2025.1.31)\n",
      "Requirement already satisfied: httpcore==1.* in /opt/anaconda3/lib/python3.12/site-packages (from httpx<1,>=0.23.0->openai->-r requirements.txt (line 5)) (1.0.2)\n",
      "Requirement already satisfied: h11<0.15,>=0.13 in /opt/anaconda3/lib/python3.12/site-packages (from httpcore==1.*->httpx<1,>=0.23.0->openai->-r requirements.txt (line 5)) (0.14.0)\n",
      "Requirement already satisfied: importlib-metadata<8.8.0,>=6.0 in /opt/anaconda3/lib/python3.12/site-packages (from opentelemetry-api>=1.34.1->autogen-core->-r requirements.txt (line 2)) (7.0.1)\n",
      "Requirement already satisfied: charset-normalizer<4,>=2 in /opt/anaconda3/lib/python3.12/site-packages (from requests>=2.26.0->tiktoken->-r requirements.txt (line 6)) (2.0.4)\n",
      "Requirement already satisfied: urllib3<3,>=1.21.1 in /opt/anaconda3/lib/python3.12/site-packages (from requests>=2.26.0->tiktoken->-r requirements.txt (line 6)) (2.2.2)\n",
      "Requirement already satisfied: zipp>=0.5 in /opt/anaconda3/lib/python3.12/site-packages (from importlib-metadata<8.8.0,>=6.0->opentelemetry-api>=1.34.1->autogen-core->-r requirements.txt (line 2)) (3.17.0)\n"
     ]
    }
   ],
   "source": [
    "!git clone https://github.com/Adonpm/ai-interviewer.git\n",
    "%cd ai-interviewer\n",
    "!pip install -r requirements.txt"
   ]
  },
  {
   "cell_type": "code",
   "execution_count": 5,
   "id": "b768b231-de11-4dd7-a7c7-d61ea10e6bce",
   "metadata": {},
   "outputs": [],
   "source": [
    "import os\n",
    "os.environ[\"OPENAI_API_KEY\"] = \"OPENAPI_KEY\""
   ]
  },
  {
   "cell_type": "code",
   "execution_count": 17,
   "id": "1ae6e1d6-a787-472e-8219-7c66eae30974",
   "metadata": {},
   "outputs": [
    {
     "name": "stdout",
     "output_type": "stream",
     "text": [
      "---------- TextMessage (user) ----------\n",
      "Teacher: Please start with the first question.\n",
      "---------- TextMessage (Teacher) ----------\n",
      "Certainly! Here's the first question:\n",
      "\n",
      "1. Solve for x: 3x + 4 = 19.\n"
     ]
    },
    {
     "name": "stdin",
     "output_type": "stream",
     "text": [
      "Enter your response:  5\n"
     ]
    },
    {
     "name": "stdout",
     "output_type": "stream",
     "text": [
      "---------- TextMessage (Kid) ----------\n",
      "5\n",
      "---------- TextMessage (Teacher) ----------\n",
      "Correct!\n",
      "\n",
      "To solve 3x + 4 = 19:\n",
      "1. Subtract 4 from both sides: 3x = 15.\n",
      "2. Divide both sides by 3: x = 5.\n",
      "\n",
      "Now, onto the second question:\n",
      "\n",
      "2. Find the value of y if 2y - 7 = 3.\n"
     ]
    },
    {
     "name": "stdin",
     "output_type": "stream",
     "text": [
      "Enter your response:  4\n"
     ]
    },
    {
     "name": "stdout",
     "output_type": "stream",
     "text": [
      "---------- TextMessage (Kid) ----------\n",
      "4\n",
      "---------- TextMessage (Teacher) ----------\n",
      "Correct!\n",
      "\n",
      "To solve 2y - 7 = 3:\n",
      "1. Add 7 to both sides: 2y = 10.\n",
      "2. Divide both sides by 2: y = 5.\n",
      "\n",
      "Here's the third question:\n",
      "\n",
      "3. Solve for z: 5z + 1 = 26.\n"
     ]
    },
    {
     "name": "stdin",
     "output_type": "stream",
     "text": [
      "Enter your response:  3 or 4\n"
     ]
    },
    {
     "name": "stdout",
     "output_type": "stream",
     "text": [
      "---------- TextMessage (Kid) ----------\n",
      "3 or 4\n",
      "---------- TextMessage (Teacher) ----------\n",
      "Incorrect. The correct answer is z = 5.\n",
      "\n",
      "To solve 5z + 1 = 26:\n",
      "1. Subtract 1 from both sides: 5z = 25.\n",
      "2. Divide both sides by 5: z = 5.\n",
      "\n",
      "TERMINATE\n"
     ]
    }
   ],
   "source": [
    "from autogen_ext.models.openai import OpenAIChatCompletionClient\n",
    "from autogen_agentchat.agents import AssistantAgent, UserProxyAgent\n",
    "from autogen_agentchat.teams import RoundRobinGroupChat\n",
    "from autogen_agentchat.conditions import TextMentionTermination\n",
    "from autogen_agentchat.ui import Console\n",
    "import os, asyncio\n",
    "from dotenv import load_dotenv\n",
    "load_dotenv()\n",
    "\n",
    "\n",
    "load_dotenv()\n",
    "os.environ[\"OPENAI_API_KEY\"] = os.getenv(\"OPENAI_API_KEY\")\n",
    "\n",
    "model_client = OpenAIChatCompletionClient(model=\"gpt-4o\")\n",
    "\n",
    "teacher = AssistantAgent(\n",
    "    name=\"Teacher\",\n",
    "    model_client=model_client,\n",
    "    description=\"Asks 3 linear algebra questions and explains answers.\",\n",
    "    system_message=\"\"\"\n",
    "You are a friendly 8th-grade math teacher.\n",
    "Ask exactly 3 different linear algebra questions, one at a time.\n",
    "After each student answer:\n",
    "1. Say if it is correct only if the answer given by student is correct else say incorrectf.\n",
    "2. Give the correct answer.\n",
    "3. Explain step-by-step how to solve it.\n",
    "Then ask the next question.\n",
    "After the third question and explanation, say 'TERMINATE'.\n",
    "Keep explanations under 80 words.\n",
    "\"\"\",\n",
    ")\n",
    "\n",
    "kid = UserProxyAgent(\n",
    "    name=\"Kid\",\n",
    "    description=\"The student answering the teacher's questions.\",\n",
    "    input_func=lambda prompt: input(prompt)\n",
    ")\n",
    "\n",
    "termination_condition = TextMentionTermination(text=\"TERMINATE\")\n",
    "\n",
    "team = RoundRobinGroupChat(\n",
    "    participants=[teacher, kid],\n",
    "    termination_condition=termination_condition,\n",
    "    max_turns=20,\n",
    ")\n",
    "\n",
    "async def main():\n",
    "    await Console(team.run_stream(task=\"Teacher: Please start with the first question.\"))\n",
    "\n",
    "import nest_asyncio\n",
    "nest_asyncio.apply()\n",
    "await main()"
   ]
  },
  {
   "cell_type": "code",
   "execution_count": null,
   "id": "94753b6d-0131-4e42-a321-466dfbbd324e",
   "metadata": {},
   "outputs": [],
   "source": []
  }
 ],
 "metadata": {
  "kernelspec": {
   "display_name": "Python 3 (ipykernel)",
   "language": "python",
   "name": "python3"
  },
  "language_info": {
   "codemirror_mode": {
    "name": "ipython",
    "version": 3
   },
   "file_extension": ".py",
   "mimetype": "text/x-python",
   "name": "python",
   "nbconvert_exporter": "python",
   "pygments_lexer": "ipython3",
   "version": "3.12.4"
  }
 },
 "nbformat": 4,
 "nbformat_minor": 5
}
